{
 "cells": [
  {
   "cell_type": "markdown",
   "metadata": {
    "slideshow": {
     "slide_type": "slide"
    }
   },
   "source": [
    "# Part II - (Loan Data)\n",
    "## by (Oluwatosin K.)"
   ]
  },
  {
   "cell_type": "markdown",
   "metadata": {
    "slideshow": {
     "slide_type": "slide"
    }
   },
   "source": [
    "## INTRODUCTION \n",
    "\n",
    "The Data contains Loan information of different individuals covering 51 states. A total of 67 Occupations were captured. \n",
    "\n",
    "The dataset contained about 81 columns but only 18 were selected fot this analysis. \n",
    "\n",
    "Through the data I hope to draw information on the relationships between the information embedded in the data of the variables gathered."
   ]
  },
  {
   "cell_type": "markdown",
   "metadata": {
    "slideshow": {
     "slide_type": "slide"
    }
   },
   "source": [
    "### INSIGHTS\n",
    "\n",
    "> Consolidated Debt is the most popular reason for many of the loans collected.\n",
    "   \n",
    "> Only a few people pay within a year, majority of the Borrowers find it comfortable to payback within a 3 year/ 36-month payback period. \n",
    "  \n",
    "> We observed that the median Original Loan amount Increases with Increase in income range of members.\n",
    "\n",
    "> Carlifornia has by far the largest no of Borrowers."
   ]
  },
  {
   "cell_type": "markdown",
   "metadata": {
    "slideshow": {
     "slide_type": "skip"
    }
   },
   "source": [
    ">**Before you start**: You must have the README.md file ready that include a summary of main findings that reflects on the steps taken during the data exploration (Part I notebook). The README.md file should also describes the key insights that will be conveyed by the explanatory slide deck (Part II  outcome)\n",
    "\n",
    "\n",
    "\n",
    "## Investigation Overview\n",
    "\n",
    "\n",
    "> Describe the overall goals of your presentation here. Add a summary of key insights at the start of the notebook, just as you added in the README.md. This will help your notebook to stay aligned to the key insights you want to include in your slide deck.\n",
    "\n",
    "> **Rubric Tip**: The key insights in the slideshow must match those documented in the README.md summary. \n",
    "\n",
    "\n",
    "## Dataset Overview\n",
    "\n",
    "> Provide a brief overview of the dataset to be presented here."
   ]
  },
  {
   "cell_type": "code",
   "execution_count": null,
   "metadata": {
    "slideshow": {
     "slide_type": "skip"
    }
   },
   "outputs": [],
   "source": [
    "# import all packages and set plots to be embedded inline\n",
    "import numpy as np\n",
    "import pandas as pd\n",
    "import matplotlib.pyplot as plt\n",
    "import seaborn as sns\n",
    "\n",
    "%matplotlib inline\n",
    "\n",
    "# suppress warnings from final output\n",
    "import warnings\n",
    "warnings.simplefilter(\"ignore\")"
   ]
  },
  {
   "cell_type": "code",
   "execution_count": null,
   "metadata": {
    "slideshow": {
     "slide_type": "skip"
    }
   },
   "outputs": [],
   "source": [
    "# load in the dataset into a pandas dataframe\n",
    "df_original = pd.read_csv('prosperLoanData.csv')"
   ]
  },
  {
   "cell_type": "code",
   "execution_count": null,
   "metadata": {
    "slideshow": {
     "slide_type": "skip"
    }
   },
   "outputs": [],
   "source": [
    "need_columns=['MemberKey','LoanOriginationDate','LoanOriginalAmount','Term','MonthlyLoanPayment', 'BorrowerRate', 'LoanStatus','ListingCategory (numeric)', 'BorrowerState',\n",
    "       'Occupation', 'EmploymentStatus', 'EmploymentStatusDuration',\n",
    "       'IsBorrowerHomeowner','IncomeRange', 'IncomeVerifiable',\n",
    "       'StatedMonthlyIncome','AvailableBankcardCredit','Investors']"
   ]
  },
  {
   "cell_type": "code",
   "execution_count": null,
   "metadata": {
    "slideshow": {
     "slide_type": "skip"
    }
   },
   "outputs": [],
   "source": [
    "df_loan= df_original[need_columns]\n",
    "df_loan.shape"
   ]
  },
  {
   "cell_type": "code",
   "execution_count": null,
   "metadata": {
    "slideshow": {
     "slide_type": "skip"
    }
   },
   "outputs": [],
   "source": [
    "ListingCategory1= {0:'Not Available', 1:'Debt Consolidation', 2:'Home Improvement', 3:'Business', 4:'Personal Loan', 5:'Student Use', 6:'Auto', 7:'Other', 8:'Baby or Adoption', 9:'Boat', 10:'Cosmetic Procedure', 11:'Engagement Ring', 12:'Green Loans', 13:'Household Expenses', 14:'Large Purchases', 15:'Medical/Dental', 16:'Motorcycle', 17:'RV', 18:'Taxes', 19:'Vacation', 20:'Wedding Loans'}"
   ]
  },
  {
   "cell_type": "code",
   "execution_count": null,
   "metadata": {
    "slideshow": {
     "slide_type": "skip"
    }
   },
   "outputs": [],
   "source": [
    "df_loan['ListingCategory'] = df_loan['ListingCategory (numeric)']\n",
    "df_loan['ListingCategory'].replace(ListingCategory1, inplace=True)\n",
    "df_loan.head()"
   ]
  },
  {
   "cell_type": "markdown",
   "metadata": {
    "slideshow": {
     "slide_type": "skip"
    }
   },
   "source": [
    "> Note that the above cells have been set as \"Skip\"-type slides. That means\n",
    "that when the notebook is rendered as http slides, those cells won't show up."
   ]
  },
  {
   "cell_type": "markdown",
   "metadata": {
    "slideshow": {
     "slide_type": "skip"
    }
   },
   "source": [
    "## (Visualization 1)\n",
    "\n",
    "> Write a comment about your visualization here. The visualization should be in the next cell, as a sub-slide type. Make sure your visualizations are polished!\n",
    "\n",
    "> **Rubric Tip**: Provide at least 3 **polished** visualizations to convey key insights. The total number of visualizations in the slideshow shoould be less than 50% of the number of visualizations in the exploratory analysis. For example, if the exploratory analysis (Part I) has 18 visualizations, the slideshow can have (3 - 8) visualizations. \n",
    "\n",
    "\n",
    "> **Rubric Tip**: Each visualization in the slideshow is associated with **descriptive comments** that accurately depict their purpose and your observation. \n",
    "\n",
    "\n",
    "> **Rubric Tip**: All plots in the slideshow are appropriate, meaning the plot type, encodings, and transformations are suitable to the underlying data. \n",
    "\n",
    "> **Rubric Tip**: All plots in the slideshow are polished, meaning all plots have a title, labeled x/y axes (with units), x/y ticks, and legends. "
   ]
  },
  {
   "cell_type": "markdown",
   "metadata": {
    "slideshow": {
     "slide_type": "slide"
    }
   },
   "source": [
    "### INSIGHT 1: Common Reasons why people take loans."
   ]
  },
  {
   "cell_type": "code",
   "execution_count": null,
   "metadata": {
    "scrolled": true,
    "slideshow": {
     "slide_type": "subslide"
    }
   },
   "outputs": [],
   "source": [
    "# The Most Commonly Identified reason for the Loans taken was for Debt Consolidation\n",
    "df_loan['ListingCategory'].value_counts().plot(kind ='barh', figsize=(8,6))\n",
    "plt.title('Reasons for Loans', fontsize=25)\n",
    "plt.xlabel('Count',fontsize=15)\n",
    "plt.ylabel('What the loan is for',fontsize=15);"
   ]
  },
  {
   "cell_type": "markdown",
   "metadata": {
    "slideshow": {
     "slide_type": "slide"
    }
   },
   "source": [
    "### INSIGHT 2: What is the average time majority take to pay back their loans?."
   ]
  },
  {
   "cell_type": "code",
   "execution_count": null,
   "metadata": {
    "scrolled": true,
    "slideshow": {
     "slide_type": "subslide"
    }
   },
   "outputs": [],
   "source": [
    "# The average payback period for most debts was 3 years i.e 36 months\n",
    "plt.figure(figsize=(4,5))\n",
    "base_color=sns.color_palette()[2]\n",
    "sns.countplot(data=df_loan, x='Term', color=base_color)\n",
    "plt.title('PayBack Period', fontsize=20)\n",
    "plt.xlabel('Number of Months',fontsize=15)\n",
    "plt.ylabel('Count',fontsize=15);"
   ]
  },
  {
   "cell_type": "markdown",
   "metadata": {
    "slideshow": {
     "slide_type": "slide"
    }
   },
   "source": [
    "### INSIGHT 3: What is the distribution of Borrowers across different states?"
   ]
  },
  {
   "cell_type": "code",
   "execution_count": null,
   "metadata": {
    "slideshow": {
     "slide_type": "subslide"
    }
   },
   "outputs": [],
   "source": [
    "#The state with the highest no of borrowers is California\n",
    "plt.figure(figsize=(20,6))\n",
    "base_color=sns.color_palette()[7]\n",
    "sns.countplot(df_loan['BorrowerState'], color=base_color)\n",
    "plt.title('No of People Taking Loans per State', fontsize=20)\n",
    "plt.xlabel('States',fontsize=15)\n",
    "plt.ylabel('Count',fontsize=15);"
   ]
  },
  {
   "cell_type": "markdown",
   "metadata": {
    "collapsed": true,
    "slideshow": {
     "slide_type": "skip"
    }
   },
   "source": [
    "## (Visualization 2)\n",
    "\n",
    "> You should have at least three visualizations in your presentation,\n",
    "but feel free to add more if you'd like!"
   ]
  },
  {
   "cell_type": "markdown",
   "metadata": {
    "slideshow": {
     "slide_type": "slide"
    }
   },
   "source": [
    "### INSIGHT 4: What is the relationship between Borrowers Monthly income and and their Original Loan amount?"
   ]
  },
  {
   "cell_type": "code",
   "execution_count": null,
   "metadata": {
    "slideshow": {
     "slide_type": "subslide"
    }
   },
   "outputs": [],
   "source": [
    "#Monthly income against Original Loan Amount\n",
    "plt.figure(figsize=(20,6))\n",
    "sns.boxplot(x=df_loan['LoanOriginalAmount'], y=df_loan['IncomeRange'])\n",
    "plt.title(\"Monthly income vs Original Loan Amount \", fontsize=35)\n",
    "plt.xlabel('Original Loan Amount',fontsize=20)\n",
    "plt.ylabel('Monthly income',fontsize=20)\n",
    "plt.xticks(fontsize=15)\n",
    "plt.yticks(fontsize=15);\n",
    "plt.show()"
   ]
  },
  {
   "cell_type": "markdown",
   "metadata": {
    "slideshow": {
     "slide_type": "skip"
    }
   },
   "source": [
    "## (Visualization 3)\n",
    "\n"
   ]
  },
  {
   "cell_type": "markdown",
   "metadata": {
    "slideshow": {
     "slide_type": "slide"
    }
   },
   "source": [
    "### CONCLUSIONS\n",
    "   \n",
    "   > Consolidated Debt is the most popular reason for many of the loans collected.\n",
    "   \n",
    "   > Only a few people pay within a year, majority of the Borrowers find it comfortable to payback within a 3 year/ 36-month payback period. \n",
    "   \n",
    "   > We observed that the median Original Loan amount Increases with Increase in income range of members.\n",
    "   "
   ]
  },
  {
   "cell_type": "markdown",
   "metadata": {
    "slideshow": {
     "slide_type": "skip"
    }
   },
   "source": [
    ">**Generate Slideshow**: Once you're ready to generate your slideshow, use the `jupyter nbconvert` command to generate the HTML slide show. . From the terminal or command line, use the following expression."
   ]
  },
  {
   "cell_type": "code",
   "execution_count": null,
   "metadata": {
    "scrolled": true,
    "slideshow": {
     "slide_type": "skip"
    }
   },
   "outputs": [],
   "source": [
    "!jupyter nbconvert Part_II_slide.ipynb --to slides --post serve --no-input --no-prompt"
   ]
  },
  {
   "cell_type": "markdown",
   "metadata": {
    "slideshow": {
     "slide_type": "skip"
    }
   },
   "source": [
    "> This should open a tab in your web browser where you can scroll through your presentation. Sub-slides can be accessed by pressing 'down' when viewing its parent slide. Make sure you remove all of the quote-formatted guide notes like this one before you finish your presentation! At last, you can stop the Kernel. "
   ]
  },
  {
   "cell_type": "code",
   "execution_count": null,
   "metadata": {
    "slideshow": {
     "slide_type": "skip"
    }
   },
   "outputs": [],
   "source": []
  }
 ],
 "metadata": {
  "celltoolbar": "Slideshow",
  "kernelspec": {
   "display_name": "Python 3 (ipykernel)",
   "language": "python",
   "name": "python3"
  },
  "language_info": {
   "codemirror_mode": {
    "name": "ipython",
    "version": 3
   },
   "file_extension": ".py",
   "mimetype": "text/x-python",
   "name": "python",
   "nbconvert_exporter": "python",
   "pygments_lexer": "ipython3",
   "version": "3.9.12"
  }
 },
 "nbformat": 4,
 "nbformat_minor": 2
}
